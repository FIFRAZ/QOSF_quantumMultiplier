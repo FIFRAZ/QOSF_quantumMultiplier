{
 "cells": [
  {
   "cell_type": "code",
   "execution_count": 1,
   "id": "c0de6ab1",
   "metadata": {},
   "outputs": [
    {
     "name": "stdout",
     "output_type": "stream",
     "text": [
      "importing Jupyter notebook from QuantumUtil.ipynb\n"
     ]
    }
   ],
   "source": [
    "from qiskit import QuantumRegister, ClassicalRegister, QuantumCircuit, execute, Aer\n",
    "'''For importing a module on jupyter notebook.\n",
    "Step 1: pip install import-ipynb\n",
    "Step 2: In code import import_ipynb'''\n",
    "\n",
    "import import_ipynb\n",
    "import QuantumUtil as qutil"
   ]
  },
  {
   "cell_type": "code",
   "execution_count": 2,
   "id": "32c578db",
   "metadata": {},
   "outputs": [],
   "source": [
    "def q_multiplier_with_user_input():\n",
    "    '''\n",
    "    asks the user to input two binary numbers and\n",
    "    returns the arithmetic product of the two numbers, calculated using quantum circuit.\n",
    "    '''\n",
    "    # Ask user to provide two binary input numbers which should be multiplied\n",
    "    numbers = qutil.getInputNumbers()\n",
    "    num1 = numbers[0]\n",
    "    num2 = numbers[1]\n",
    "    #Using repetative addition to implement multiplication.\n",
    "    # The first number will be added to itself, number of times equal to the second number\n",
    "\n",
    "    summ = num1\n",
    "    decimal_num2=int(num2,2)\n",
    "    for i in range(decimal_num2-1):\n",
    "        summ = qutil.quantumAdd(num1, summ)\n",
    "\n",
    "    print(\"The Quantum multiplication results:\\n Product of \",num1,\" and \",num2,\" is : \",summ)\n",
    "    print(\"Decimal form of the quantum results: \")\n",
    "    print(\"Product of \",int(num1,2),\" and \",int(num2,2),\" is : \",int(summ,2))\n",
    "    return summ\n",
    "\n"
   ]
  },
  {
   "cell_type": "code",
   "execution_count": 3,
   "id": "fecd0c93",
   "metadata": {},
   "outputs": [],
   "source": [
    "def q_multiplier(decimal_num1, decimal_num2):\n",
    "    '''\n",
    "    decimal_num1: Positive integer in decimal form\n",
    "    decimal_num2: Positive integer in decimal form\n",
    "    returns: arithmetic product of decimal_num1 and decimal_num2, calculated using quantum circuit\n",
    "    \n",
    "    Using the simulator, it code execution can handle only 3 bit numbers, \n",
    "    hence please provide numbers less than 8 as input\n",
    "    '''\n",
    "    #Input arguments validation\n",
    "    inputIsValid = False\n",
    "    try:\n",
    "            if decimal_num1<=8 and decimal_num2<=8:\n",
    "                inputIsValid=True\n",
    "            bin_num1 = bin(decimal_num1)[2:]\n",
    "    except:\n",
    "            isValid=False\n",
    "    \n",
    "    #Using repetative addition to implement multiplication.\n",
    "    # The first number will be added to itself, number of times equal to the second number\n",
    "    if inputIsValid:\n",
    "        summ = bin_num1\n",
    "        for i in range(decimal_num2-1):\n",
    "            summ = qutil.quantumAdd(bin_num1, summ)\n",
    "\n",
    "        #print(\"The Quantum multiplication results:\\n Product of \",decimal_num1,\" and \",decimal_num2,\" is : \",summ)\n",
    "    else:\n",
    "        print(\"Invalid or too large input provided\")\n",
    "        return 0\n",
    "    return summ\n",
    "    \n",
    "\n"
   ]
  },
  {
   "cell_type": "code",
   "execution_count": 4,
   "id": "b8ed33b2",
   "metadata": {},
   "outputs": [
    {
     "name": "stdout",
     "output_type": "stream",
     "text": [
      "The Quantum multiplication results:\n",
      " Product of  5  and  6  is :  00011110\n"
     ]
    }
   ],
   "source": [
    "# Invoking the quantum multiplier function\n",
    "decimal_num1=5\n",
    "decimal_num2=6\n",
    "product = q_multiplier(decimal_num1,decimal_num2)\n",
    "print(\"The Quantum multiplication results:\\n Product of \",decimal_num1,\" and \",decimal_num2,\" is : \",product)\n",
    "    "
   ]
  },
  {
   "cell_type": "code",
   "execution_count": 5,
   "id": "408cd54b",
   "metadata": {},
   "outputs": [
    {
     "name": "stdout",
     "output_type": "stream",
     "text": [
      " The classical decimal multiplication results : \n",
      "  5  *  6  =  30\n",
      "Binary form of the classical multiplication result :  11110\n"
     ]
    }
   ],
   "source": [
    "#Verification using classical arithmetic multiplication\n",
    "\n",
    "decimal_mult = decimal_num1*decimal_num2\n",
    "\n",
    "print(\" The classical decimal multiplication results : \\n \",decimal_num1,\" * \",decimal_num2,\" = \",decimal_mult)\n",
    "print(\"Binary form of the classical multiplication result : \", bin(decimal_mult)[2:])"
   ]
  },
  {
   "cell_type": "code",
   "execution_count": 6,
   "id": "67e39a86",
   "metadata": {},
   "outputs": [
    {
     "name": "stdout",
     "output_type": "stream",
     "text": [
      "Enter a binary number containing maximum 3 bits101\n",
      "Enter another binary number containing maximum 3 bits111\n",
      "The Quantum multiplication results:\n",
      " Product of  101  and  111  is :  000100011\n",
      "Decimal form of the quantum results: \n",
      "Product of  5  and  7  is :  35\n"
     ]
    },
    {
     "data": {
      "text/plain": [
       "'000100011'"
      ]
     },
     "execution_count": 6,
     "metadata": {},
     "output_type": "execute_result"
    }
   ],
   "source": [
    "# Invoking the quantum multiplier function that asks for binary input\n",
    "q_multiplier_with_user_input()"
   ]
  },
  {
   "cell_type": "code",
   "execution_count": null,
   "id": "8f181060",
   "metadata": {},
   "outputs": [],
   "source": []
  }
 ],
 "metadata": {
  "kernelspec": {
   "display_name": "Python 3 (ipykernel)",
   "language": "python",
   "name": "python3"
  },
  "language_info": {
   "codemirror_mode": {
    "name": "ipython",
    "version": 3
   },
   "file_extension": ".py",
   "mimetype": "text/x-python",
   "name": "python",
   "nbconvert_exporter": "python",
   "pygments_lexer": "ipython3",
   "version": "3.9.5"
  }
 },
 "nbformat": 4,
 "nbformat_minor": 5
}
